{
 "cells": [
  {
   "cell_type": "code",
   "execution_count": 2,
   "metadata": {},
   "outputs": [],
   "source": [
    "import numpy as np\n",
    "import pandas as pd\n",
    "import matplotlib.pyplot as plt\n",
    "import seaborn as sns\n",
    "from sklearn.feature_extraction.text import TfidfVectorizer\n",
    "from sklearn.model_selection import train_test_split, GridSearchCV\n",
    "from sklearn.pipeline import Pipeline\n",
    "from sklearn.model_selection import GridSearchCV\n",
    "from sklearn.utils import class_weight\n",
    "from sklearn.linear_model import LogisticRegression\n",
    "from sklearn.svm import SVC\n",
    "from sklearn.naive_bayes import MultinomialNB\n",
    "from sklearn.tree import DecisionTreeClassifier\n",
    "from sklearn.ensemble import RandomForestClassifier, GradientBoostingClassifier, VotingClassifier\n",
    "from xgboost import XGBClassifier\n",
    "from sklearn.metrics import accuracy_score"
   ]
  },
  {
   "cell_type": "code",
   "execution_count": 3,
   "metadata": {},
   "outputs": [],
   "source": [
    "train = pd.read_csv('./Genre Classification Dataset/train_data.txt', sep=\":::\", names=[\"TITLE\", \"GENRE\", \"DESCRIPTION\"], engine=\"python\")\n",
    "test = pd.read_csv('./Genre Classification Dataset/test_data.txt', sep=\":::\", names=[\"TITLE\", \"GENRE\", \"DESCRIPTION\"], engine=\"python\")"
   ]
  },
  {
   "cell_type": "code",
   "execution_count": 4,
   "metadata": {},
   "outputs": [
    {
     "name": "stdout",
     "output_type": "stream",
     "text": [
      "(54214, 3)\n",
      "(54200, 3)\n"
     ]
    }
   ],
   "source": [
    "print(train.shape)\n",
    "print(test.shape)"
   ]
  },
  {
   "cell_type": "code",
   "execution_count": 5,
   "metadata": {},
   "outputs": [
    {
     "name": "stdout",
     "output_type": "stream",
     "text": [
      "<class 'pandas.core.frame.DataFrame'>\n",
      "Index: 54214 entries, 1 to 54214\n",
      "Data columns (total 3 columns):\n",
      " #   Column       Non-Null Count  Dtype \n",
      "---  ------       --------------  ----- \n",
      " 0   TITLE        54214 non-null  object\n",
      " 1   GENRE        54214 non-null  object\n",
      " 2   DESCRIPTION  54214 non-null  object\n",
      "dtypes: object(3)\n",
      "memory usage: 1.7+ MB\n",
      "None\n"
     ]
    },
    {
     "data": {
      "text/plain": [
       "<bound method NDFrame.head of                                               TITLE          GENRE  \\\n",
       "1                     Oscar et la dame rose (2009)          drama    \n",
       "2                                     Cupid (1997)       thriller    \n",
       "3                 Young, Wild and Wonderful (1980)          adult    \n",
       "4                            The Secret Sin (1915)          drama    \n",
       "5                           The Unrecovered (2007)          drama    \n",
       "...                                             ...            ...   \n",
       "54210                              \"Bonino\" (1953)         comedy    \n",
       "54211                  Dead Girls Don't Cry (????)         horror    \n",
       "54212    Ronald Goedemondt: Ze bestaan echt (2008)    documentary    \n",
       "54213                     Make Your Own Bed (1944)         comedy    \n",
       "54214   Nature's Fury: Storm of the Century (2006)        history    \n",
       "\n",
       "                                             DESCRIPTION  \n",
       "1       Listening in to a conversation between his do...  \n",
       "2       A brother and sister with a past incestuous r...  \n",
       "3       As the bus empties the students for their fie...  \n",
       "4       To help their unemployed father make ends mee...  \n",
       "5       The film's title refers not only to the un-re...  \n",
       "...                                                  ...  \n",
       "54210   This short-lived NBC live sitcom centered on ...  \n",
       "54211   The NEXT Generation of EXPLOITATION. The sist...  \n",
       "54212   Ze bestaan echt, is a stand-up comedy about g...  \n",
       "54213   Walter and Vivian live in the country and hav...  \n",
       "54214   On Labor Day Weekend, 1935, the most intense ...  \n",
       "\n",
       "[54214 rows x 3 columns]>"
      ]
     },
     "execution_count": 5,
     "metadata": {},
     "output_type": "execute_result"
    }
   ],
   "source": [
    "print(train.info())\n",
    "train.head"
   ]
  },
  {
   "cell_type": "code",
   "execution_count": 6,
   "metadata": {},
   "outputs": [
    {
     "name": "stdout",
     "output_type": "stream",
     "text": [
      "<class 'pandas.core.frame.DataFrame'>\n",
      "RangeIndex: 54200 entries, 0 to 54199\n",
      "Data columns (total 3 columns):\n",
      " #   Column       Non-Null Count  Dtype \n",
      "---  ------       --------------  ----- \n",
      " 0   TITLE        54200 non-null  int64 \n",
      " 1   GENRE        54200 non-null  object\n",
      " 2   DESCRIPTION  54200 non-null  object\n",
      "dtypes: int64(1), object(2)\n",
      "memory usage: 1.2+ MB\n",
      "None\n",
      "<bound method NDFrame.head of        TITLE                             GENRE  \\\n",
      "0          1             Edgar's Lunch (1998)    \n",
      "1          2         La guerra de papá (1977)    \n",
      "2          3      Off the Beaten Track (2010)    \n",
      "3          4           Meu Amigo Hindu (2015)    \n",
      "4          5                Er nu zhai (1955)    \n",
      "...      ...                               ...   \n",
      "54195  54196   \"Tales of Light & Dark\" (2013)    \n",
      "54196  54197      Der letzte Mohikaner (1965)    \n",
      "54197  54198              Oliver Twink (2007)    \n",
      "54198  54199                Slipstream (1973)    \n",
      "54199  54200        Curitiba Zero Grau (2010)    \n",
      "\n",
      "                                             DESCRIPTION  \n",
      "0       L.R. Brane loves his life - his car, his apar...  \n",
      "1       Spain, March 1964: Quico is a very naughty ch...  \n",
      "2       One year in the life of Albin and his family ...  \n",
      "3       His father has died, he hasn't spoken with hi...  \n",
      "4       Before he was known internationally as a mart...  \n",
      "...                                                  ...  \n",
      "54195   Covering multiple genres, Tales of Light & Da...  \n",
      "54196   As Alice and Cora Munro attempt to find their...  \n",
      "54197   A movie 169 years in the making. Oliver Twist...  \n",
      "54198   Popular, but mysterious rock D.J Mike Mallard...  \n",
      "54199   Curitiba is a city in movement, with rhythms ...  \n",
      "\n",
      "[54200 rows x 3 columns]>\n"
     ]
    }
   ],
   "source": [
    "print(test.info())\n",
    "print(test.head)"
   ]
  },
  {
   "cell_type": "code",
   "execution_count": 7,
   "metadata": {},
   "outputs": [
    {
     "data": {
      "text/plain": [
       "GENRE\n",
       "drama           13613\n",
       "documentary     13096\n",
       "comedy           7447\n",
       "short            5073\n",
       "horror           2204\n",
       "thriller         1591\n",
       "action           1315\n",
       "western          1032\n",
       "reality-tv        884\n",
       "family            784\n",
       "adventure         775\n",
       "music             731\n",
       "romance           672\n",
       "sci-fi            647\n",
       "adult             590\n",
       "crime             505\n",
       "animation         498\n",
       "sport             432\n",
       "talk-show         391\n",
       "fantasy           323\n",
       "mystery           319\n",
       "musical           277\n",
       "biography         265\n",
       "history           243\n",
       "game-show         194\n",
       "news              181\n",
       "war               132\n",
       "Name: count, dtype: int64"
      ]
     },
     "execution_count": 7,
     "metadata": {},
     "output_type": "execute_result"
    }
   ],
   "source": [
    "train['GENRE'].value_counts() # Class imbalance is clearly visible"
   ]
  },
  {
   "cell_type": "code",
   "execution_count": 8,
   "metadata": {},
   "outputs": [
    {
     "data": {
      "image/png": "[encoded data removed]",
      "text/plain": [
       "<Figure size 1000x600 with 1 Axes>"
      ]
     },
     "metadata": {},
     "output_type": "display_data"
    }
   ],
   "source": [
    "plt.figure(figsize=(10, 6))\n",
    "train['GENRE'].value_counts().plot(kind='bar')\n",
    "plt.title('Count of each Genre')\n",
    "plt.xlabel('Genre')\n",
    "plt.ylabel('Count')\n",
    "plt.show()"
   ]
  },
  {
   "cell_type": "code",
   "execution_count": 9,
   "metadata": {},
   "outputs": [
    {
     "name": "stdout",
     "output_type": "stream",
     "text": [
      "TITLE          object\n",
      "GENRE          object\n",
      "DESCRIPTION    object\n",
      "dtype: object\n",
      "TITLE           int64\n",
      "GENRE          object\n",
      "DESCRIPTION    object\n",
      "dtype: object\n"
     ]
    }
   ],
   "source": [
    "print(train.dtypes)\n",
    "print(test.dtypes)"
   ]
  },
  {
   "cell_type": "code",
   "execution_count": 10,
   "metadata": {},
   "outputs": [],
   "source": [
    "def cleaning(text):\n",
    "    # Define stopwords set\n",
    "    stop_words = {\"i\", \"me\", \"my\", \"myself\", \"we\", \"our\", \"ours\", \"ourselves\", \"you\", \"your\", \"yours\", \"yourself\", \"yourselves\", \"he\", \"him\", \"his\", \"himself\", \"she\", \"her\", \"hers\", \"herself\", \"it\", \"its\", \"itself\", \"they\", \"them\", \"their\", \"theirs\", \"themselves\", \"what\", \"which\", \"who\", \"whom\", \"this\", \"that\", \"these\", \"those\", \"am\", \"is\", \"are\", \"was\", \"were\", \"be\", \"been\", \"being\", \"have\", \"has\", \"had\", \"having\", \"do\", \"does\", \"did\", \"doing\", \"a\", \"an\", \"the\", \"and\", \"but\", \"if\", \"or\", \"because\", \"as\", \"until\", \"while\", \"of\", \"at\", \"by\", \"for\", \"with\", \"about\", \"against\", \"between\", \"into\", \"through\", \"during\", \"before\", \"after\", \"above\", \"below\", \"to\", \"from\", \"up\", \"down\", \"in\", \"out\", \"on\", \"off\", \"over\", \"under\", \"again\", \"further\", \"then\", \"once\", \"here\", \"there\", \"when\", \"where\", \"why\", \"how\", \"all\", \"any\", \"both\", \"each\", \"few\", \"more\", \"most\", \"other\", \"some\", \"such\", \"no\", \"nor\", \"not\", \"only\", \"own\", \"same\", \"so\", \"than\", \"too\", \"very\", \"s\", \"t\", \"can\", \"will\", \"just\", \"don\", \"should\", \"now\"}\n",
    "    \n",
    "    # Convert text to lowercase\n",
    "    text = text.lower()\n",
    "    # Remove mentions\n",
    "    text = ' '.join(word for word in text.split() if not word.startswith('@'))\n",
    "    # Remove URLs\n",
    "    text = ' '.join(word for word in text.split() if not word.startswith('http'))\n",
    "    # Remove .pic occurrences\n",
    "    text = text.replace('.pic', '')\n",
    "    # Replace non-alphabetic characters with a space\n",
    "    text = ''.join(char if char.isalpha() else ' ' for char in text)\n",
    "    # Remove punctuation\n",
    "    text = ''.join(char for char in text if char not in '!\\\"#$%&\\'()*+,-./:;<=>?@[\\\\]^_`{|}~')\n",
    "    # Remove stop words and words with length <= 2\n",
    "    text = ' '.join(word for word in text.split() if word not in stop_words and len(word) > 2)\n",
    "    # Replace multiple spaces with a single space\n",
    "    text = ' '.join(text.split())\n",
    "    return text\n",
    "\n",
    "train[\"clean_text\"] = train[\"DESCRIPTION\"].apply(cleaning)\n",
    "test[\"clean_text\"] = test[\"DESCRIPTION\"].apply(cleaning)"
   ]
  },
  {
   "cell_type": "code",
   "execution_count": 11,
   "metadata": {},
   "outputs": [
    {
     "data": {
      "text/plain": [
       "GENRE\n",
       "drama           13613\n",
       "documentary     13096\n",
       "comedy           7447\n",
       "short            5073\n",
       "horror           2204\n",
       "thriller         1591\n",
       "action           1315\n",
       "western          1032\n",
       "reality-tv        884\n",
       "family            784\n",
       "adventure         775\n",
       "music             731\n",
       "romance           672\n",
       "sci-fi            647\n",
       "adult             590\n",
       "crime             505\n",
       "animation         498\n",
       "sport             432\n",
       "talk-show         391\n",
       "fantasy           323\n",
       "mystery           319\n",
       "musical           277\n",
       "biography         265\n",
       "history           243\n",
       "game-show         194\n",
       "news              181\n",
       "war               132\n",
       "Name: count, dtype: int64"
      ]
     },
     "execution_count": 11,
     "metadata": {},
     "output_type": "execute_result"
    }
   ],
   "source": [
    "train['GENRE'].value_counts()"
   ]
  },
  {
   "cell_type": "code",
   "execution_count": 12,
   "metadata": {},
   "outputs": [
    {
     "data": {
      "text/html": [
       "<div>\n",
       "<style scoped>\n",
       "    .dataframe tbody tr th:only-of-type {\n",
       "        vertical-align: middle;\n",
       "    }\n",
       "\n",
       "    .dataframe tbody tr th {\n",
       "        vertical-align: top;\n",
       "    }\n",
       "\n",
       "    .dataframe thead th {\n",
       "        text-align: right;\n",
       "    }\n",
       "</style>\n",
       "<table border=\"1\" class=\"dataframe\">\n",
       "  <thead>\n",
       "    <tr style=\"text-align: right;\">\n",
       "      <th></th>\n",
       "      <th>TITLE</th>\n",
       "      <th>GENRE</th>\n",
       "      <th>DESCRIPTION</th>\n",
       "      <th>clean_text</th>\n",
       "    </tr>\n",
       "  </thead>\n",
       "  <tbody>\n",
       "    <tr>\n",
       "      <th>1</th>\n",
       "      <td>Oscar et la dame rose (2009)</td>\n",
       "      <td>drama</td>\n",
       "      <td>Listening in to a conversation between his do...</td>\n",
       "      <td>listening conversation doctor parents year old...</td>\n",
       "    </tr>\n",
       "    <tr>\n",
       "      <th>2</th>\n",
       "      <td>Cupid (1997)</td>\n",
       "      <td>thriller</td>\n",
       "      <td>A brother and sister with a past incestuous r...</td>\n",
       "      <td>brother sister past incestuous relationship cu...</td>\n",
       "    </tr>\n",
       "    <tr>\n",
       "      <th>3</th>\n",
       "      <td>Young, Wild and Wonderful (1980)</td>\n",
       "      <td>adult</td>\n",
       "      <td>As the bus empties the students for their fie...</td>\n",
       "      <td>bus empties students field trip museum natural...</td>\n",
       "    </tr>\n",
       "    <tr>\n",
       "      <th>4</th>\n",
       "      <td>The Secret Sin (1915)</td>\n",
       "      <td>drama</td>\n",
       "      <td>To help their unemployed father make ends mee...</td>\n",
       "      <td>help unemployed father make ends meet edith tw...</td>\n",
       "    </tr>\n",
       "    <tr>\n",
       "      <th>5</th>\n",
       "      <td>The Unrecovered (2007)</td>\n",
       "      <td>drama</td>\n",
       "      <td>The film's title refers not only to the un-re...</td>\n",
       "      <td>film title refers recovered bodies ground zero...</td>\n",
       "    </tr>\n",
       "  </tbody>\n",
       "</table>\n",
       "</div>"
      ],
      "text/plain": [
       "                                TITLE       GENRE  \\\n",
       "1       Oscar et la dame rose (2009)       drama    \n",
       "2                       Cupid (1997)    thriller    \n",
       "3   Young, Wild and Wonderful (1980)       adult    \n",
       "4              The Secret Sin (1915)       drama    \n",
       "5             The Unrecovered (2007)       drama    \n",
       "\n",
       "                                         DESCRIPTION  \\\n",
       "1   Listening in to a conversation between his do...   \n",
       "2   A brother and sister with a past incestuous r...   \n",
       "3   As the bus empties the students for their fie...   \n",
       "4   To help their unemployed father make ends mee...   \n",
       "5   The film's title refers not only to the un-re...   \n",
       "\n",
       "                                          clean_text  \n",
       "1  listening conversation doctor parents year old...  \n",
       "2  brother sister past incestuous relationship cu...  \n",
       "3  bus empties students field trip museum natural...  \n",
       "4  help unemployed father make ends meet edith tw...  \n",
       "5  film title refers recovered bodies ground zero...  "
      ]
     },
     "execution_count": 12,
     "metadata": {},
     "output_type": "execute_result"
    }
   ],
   "source": [
    "train.head()"
   ]
  },
  {
   "cell_type": "code",
   "execution_count": 13,
   "metadata": {},
   "outputs": [],
   "source": [
    "vectorizer = TfidfVectorizer()\n",
    "X_train = vectorizer.fit_transform(train[\"clean_text\"])\n",
    "X_test = vectorizer.transform(test[\"clean_text\"])"
   ]
  },
  {
   "cell_type": "code",
   "execution_count": 14,
   "metadata": {},
   "outputs": [],
   "source": [
    "y_train = train[\"GENRE\"]\n",
    "X_train, X_val, y_train, y_val = train_test_split(X_train, y_train, test_size=0.2, random_state=42)"
   ]
  },
  {
   "cell_type": "code",
   "execution_count": 15,
   "metadata": {},
   "outputs": [
    {
     "name": "stdout",
     "output_type": "stream",
     "text": [
      "  (0, 25482)\t0.1813127502011378\n",
      "  (0, 39688)\t0.1813127502011378\n",
      "  (0, 16523)\t0.17273856615727534\n",
      "  (0, 93428)\t0.16709089550760972\n",
      "  (0, 80516)\t0.15033063610762804\n",
      "  (0, 107307)\t0.14106419094660144\n",
      "  (0, 78890)\t0.15123815187101886\n",
      "  (0, 26373)\t0.13960370908056108\n",
      "  (0, 82055)\t0.12558287418988073\n",
      "  (0, 111389)\t0.14443243912181544\n",
      "  (0, 94386)\t0.6013225444305121\n",
      "  (0, 25895)\t0.15545645271715197\n",
      "  (0, 16084)\t0.12314053624884895\n",
      "  (0, 21994)\t0.12479284823619495\n",
      "  (0, 87531)\t0.13477497903930674\n",
      "  (0, 6694)\t0.14056311036569216\n",
      "  (0, 10323)\t0.10714271865021956\n",
      "  (0, 75210)\t0.1595043464862626\n",
      "  (0, 34417)\t0.11177042888862622\n",
      "  (0, 98011)\t0.12040392378189584\n",
      "  (0, 13105)\t0.10648180835564203\n",
      "  (0, 45125)\t0.10769084745120813\n",
      "  (0, 32042)\t0.1143578407916965\n",
      "  (0, 60685)\t0.12070366304917009\n",
      "  (0, 63948)\t0.12641192926254338\n",
      "  :\t:\n",
      "  (43369, 84091)\t0.12045790357886031\n",
      "  (43369, 93322)\t0.11903009309988398\n",
      "  (43369, 76207)\t0.10111818824999513\n",
      "  (43369, 56776)\t0.08759571412514408\n",
      "  (43369, 20715)\t0.09511464387581633\n",
      "  (43369, 82580)\t0.1071028929221265\n",
      "  (43370, 63400)\t0.33047133073390605\n",
      "  (43370, 13416)\t0.2752785286883087\n",
      "  (43370, 88762)\t0.23801673606014884\n",
      "  (43370, 88029)\t0.23274774949469224\n",
      "  (43370, 103336)\t0.456558161881239\n",
      "  (43370, 74332)\t0.24965368731735654\n",
      "  (43370, 37732)\t0.15520060096897667\n",
      "  (43370, 11088)\t0.1581232450785396\n",
      "  (43370, 26614)\t0.3791038858089502\n",
      "  (43370, 32802)\t0.17183725426803456\n",
      "  (43370, 50774)\t0.1813805895903012\n",
      "  (43370, 78875)\t0.12726174555330552\n",
      "  (43370, 23883)\t0.14172597679067836\n",
      "  (43370, 35550)\t0.16986637938891097\n",
      "  (43370, 116025)\t0.12036016566173113\n",
      "  (43370, 53688)\t0.11274369183587096\n",
      "  (43370, 36727)\t0.09612771267783139\n",
      "  (43370, 37657)\t0.13770613891408154\n",
      "  (43370, 22762)\t0.24008354516370795\n"
     ]
    }
   ],
   "source": [
    "print(X_train)"
   ]
  },
  {
   "cell_type": "code",
   "execution_count": 16,
   "metadata": {},
   "outputs": [
    {
     "data": {
      "text/plain": [
       "19254           drama \n",
       "12262           drama \n",
       "37144     documentary \n",
       "21966     documentary \n",
       "7034           comedy \n",
       "             ...      \n",
       "11285          comedy \n",
       "44733           drama \n",
       "38159           drama \n",
       "861             drama \n",
       "15796     documentary \n",
       "Name: GENRE, Length: 43371, dtype: object"
      ]
     },
     "execution_count": 16,
     "metadata": {},
     "output_type": "execute_result"
    }
   ],
   "source": [
    "y_train"
   ]
  },
  {
   "cell_type": "code",
   "execution_count": 17,
   "metadata": {},
   "outputs": [],
   "source": [
    "from sklearn.preprocessing import LabelEncoder\n",
    "le = LabelEncoder()\n",
    "y_train = le.fit_transform(y_train)\n",
    "y_val = le.transform(y_val)"
   ]
  },
  {
   "cell_type": "code",
   "execution_count": 16,
   "metadata": {},
   "outputs": [],
   "source": [
    "# models = [\n",
    "#     {\n",
    "#         \"name\": \"SVM\",\n",
    "#         \"estimator\": SVC(),\n",
    "#         \"param_grid\": {'C': [0.1, 1, 10], 'gamma': [0.1, 1, 'auto'], 'kernel': ['linear', 'rbf']},\n",
    "#     },\n",
    "#     {\n",
    "#         \"name\": \"Naive Bayes\",\n",
    "#         \"estimator\": MultinomialNB(),\n",
    "#         \"param_grid\": {'alpha': [0.1, 1, 10]},\n",
    "#     },\n",
    "#     {\n",
    "#         \"name\": \"Decision Tree\",\n",
    "#         \"estimator\": DecisionTreeClassifier(),\n",
    "#         \"param_grid\": {'max_depth': [None, 10, 50], 'min_samples_split': [2, 5, 10]},\n",
    "#     },\n",
    "#     {\n",
    "#         \"name\": \"Random Forest\",\n",
    "#         \"estimator\": RandomForestClassifier(),\n",
    "#         \"param_grid\": {'n_estimators': [50, 100, 200], 'max_depth': [None, 10, 50], 'min_samples_split': [2, 5, 10]},\n",
    "#     },\n",
    "#     {\n",
    "#         \"name\": \"AdaBoost\",\n",
    "#         \"estimator\": AdaBoostClassifier(),\n",
    "#         \"param_grid\": {'n_estimators': [50, 100, 200], 'learning_rate': [0.01, 0.1, 1]},\n",
    "#     },\n",
    "#     {\n",
    "#         \"name\": \"Voting Classifier\",\n",
    "#         \"estimator\": VotingClassifier(estimators=[\n",
    "#             ('svm', SVC()), ('nb', MultinomialNB()), ('dt', DecisionTreeClassifier()), ('rf', RandomForestClassifier()), ('ada', AdaBoostClassifier())\n",
    "#         ]),\n",
    "#         \"param_grid\": {'voting': ['hard', 'soft']},\n",
    "#     },\n",
    "#     {\n",
    "#         \"name\": \"Bagging Classifier\",\n",
    "#         \"estimator\": BaggingClassifier(),\n",
    "#         \"param_grid\": {'n_estimators': [10, 50, 100]},\n",
    "#     },\n",
    "#     {\n",
    "#         \"name\": \"XGBoost\",\n",
    "#         \"estimator\": XGBClassifier(),\n",
    "#         \"param_grid\": {'n_estimators': [50, 100, 200], 'max_depth': [3, 5, 10], 'learning_rate': [0.01, 0.1, 1]},\n",
    "#     }\n",
    "# ]\n",
    "\n",
    "# # I tried Grid search for each model takes a lot of time becuz size of dataset is big so we just fit it instead\n",
    "# for model in models:\n",
    "#     print(\"Training\", model[\"name\"])\n",
    "#     grid_search = GridSearchCV(model[\"estimator\"], model[\"param_grid\"], cv=5, scoring='accuracy', n_jobs=-1)\n",
    "#     grid_search.fit(X_train, y_train)\n",
    "    \n",
    "#     print(\"Best Parameters:\", grid_search.best_params_)\n",
    "#     best_model = grid_search.best_estimator_\n",
    "#     y_pred = best_model.predict(X_val)\n",
    "#     acc = accuracy_score(y_pred, y_val)\n",
    "#     print(\"Validation Accuracy:\", acc)\n",
    "\n",
    "#     # Evaluate on test data\n",
    "#     test_acc = best_model.score(X_test, test[\"GENRE\"])\n",
    "#     print(\"Test Accuracy:\", test_acc)\n",
    "#     print(\"=\" * 50)"
   ]
  },
  {
   "cell_type": "code",
   "execution_count": 21,
   "metadata": {},
   "outputs": [
    {
     "name": "stdout",
     "output_type": "stream",
     "text": [
      "Validation Accuracy: 0.5803744351194319\n"
     ]
    },
    {
     "name": "stderr",
     "output_type": "stream",
     "text": [
      "c:\\Users\\anura\\anaconda3\\Lib\\site-packages\\sklearn\\linear_model\\_logistic.py:469: ConvergenceWarning: lbfgs failed to converge (status=1):\n",
      "STOP: TOTAL NO. of ITERATIONS REACHED LIMIT.\n",
      "\n",
      "Increase the number of iterations (max_iter) or scale the data as shown in:\n",
      "    https://scikit-learn.org/stable/modules/preprocessing.html\n",
      "Please also refer to the documentation for alternative solver options:\n",
      "    https://scikit-learn.org/stable/modules/linear_model.html#logistic-regression\n",
      "  n_iter_i = _check_optimize_result(\n"
     ]
    }
   ],
   "source": [
    "# Logistic Regression (58.03744351194319)\n",
    "lr = LogisticRegression()\n",
    "lr.fit(X_train, y_train)\n",
    "\n",
    "# Predict on validation set\n",
    "y_pred_val = lr.predict(X_val)\n",
    "val_acc = accuracy_score(y_pred_val, y_val)\n",
    "print(\"Validation Accuracy:\", val_acc)"
   ]
  },
  {
   "cell_type": "code",
   "execution_count": 17,
   "metadata": {},
   "outputs": [
    {
     "name": "stdout",
     "output_type": "stream",
     "text": [
      "Validation Accuracy: 0.4462787051553998\n"
     ]
    }
   ],
   "source": [
    "# Multinomial NB\n",
    "mnb = MultinomialNB()\n",
    "mnb.fit(X_train, y_train)\n",
    "\n",
    "# Predict on validation set\n",
    "y_pred_val = mnb.predict(X_val)\n",
    "val_acc = accuracy_score(y_pred_val, y_val)\n",
    "print(\"Validation Accuracy:\", val_acc)"
   ]
  },
  {
   "cell_type": "code",
   "execution_count": 18,
   "metadata": {},
   "outputs": [
    {
     "name": "stdout",
     "output_type": "stream",
     "text": [
      "Validation Accuracy: 0.38623997048787234\n"
     ]
    }
   ],
   "source": [
    "# Decision Tree\n",
    "dt_params = {\n",
    "    'max_depth': 10,\n",
    "    'min_samples_split': 5,\n",
    "    'min_samples_leaf': 1\n",
    "}\n",
    "\n",
    "dt = DecisionTreeClassifier(**dt_params)\n",
    "\n",
    "dt.fit(X_train, y_train)\n",
    "\n",
    "# Predict on validation set\n",
    "y_pred_val = dt.predict(X_val)\n",
    "val_acc = accuracy_score(y_pred_val, y_val)\n",
    "print(\"Validation Accuracy:\", val_acc)"
   ]
  },
  {
   "cell_type": "code",
   "execution_count": 19,
   "metadata": {},
   "outputs": [
    {
     "name": "stdout",
     "output_type": "stream",
     "text": [
      "Validation Accuracy: 0.4274647237849304\n"
     ]
    }
   ],
   "source": [
    "# Random Forest\n",
    "rf = RandomForestClassifier(n_estimators=100, max_depth=10, min_samples_split=5, min_samples_leaf=1)\n",
    "rf.fit(X_train, y_train)\n",
    "\n",
    "# Predict on validation set\n",
    "y_pred_val = rf.predict(X_val)\n",
    "val_acc = accuracy_score(y_pred_val, y_val)\n",
    "print(\"Validation Accuracy:\", val_acc)"
   ]
  },
  {
   "cell_type": "code",
   "execution_count": 22,
   "metadata": {},
   "outputs": [
    {
     "data": {
      "text/plain": [
       "array([8, 8, 7, ..., 8, 5, 7])"
      ]
     },
     "execution_count": 22,
     "metadata": {},
     "output_type": "execute_result"
    }
   ],
   "source": [
    "prediction = lr.predict(X_test)\n",
    "prediction"
   ]
  },
  {
   "cell_type": "code",
   "execution_count": 24,
   "metadata": {},
   "outputs": [],
   "source": [
    "pd.DataFrame(prediction).to_csv('./Prediction/predictions.csv', index = False)"
   ]
  },
  {
   "cell_type": "code",
   "execution_count": null,
   "metadata": {},
   "outputs": [],
   "source": []
  }
 ],
 "metadata": {
  "kernelspec": {
   "display_name": "Python 3",
   "language": "python",
   "name": "python3"
  },
  "language_info": {
   "codemirror_mode": {
    "name": "ipython",
    "version": 3
   },
   "file_extension": ".py",
   "mimetype": "text/x-python",
   "name": "python",
   "nbconvert_exporter": "python",
   "pygments_lexer": "ipython3",
   "version": "3.11.7"
  }
 },
 "nbformat": 4,
 "nbformat_minor": 2
}
