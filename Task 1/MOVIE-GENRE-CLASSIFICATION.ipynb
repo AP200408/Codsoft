{
 "cells": [
  {
   "cell_type": "code",
   "execution_count": null,
   "metadata": {},
   "outputs": [],
   "source": [
    "import numpy as np\n",
    "import pandas as pd\n",
    "import matplotlib.pyplot as plt\n",
    "import seaborn as sns\n",
    "from sklearn.feature_extraction.text import TfidfVectorizer\n",
    "from sklearn.model_selection import train_test_split, GridSearchCV\n",
    "from sklearn.pipeline import Pipeline\n",
    "from sklearn.model_selection import GridSearchCV\n",
    "from sklearn.preprocessing import LabelEncoder\n",
    "from sklearn.utils import class_weight\n",
    "from sklearn.linear_model import LogisticRegression\n",
    "from sklearn.svm import SVC\n",
    "from sklearn.naive_bayes import MultinomialNB\n",
    "from sklearn.tree import DecisionTreeClassifier\n",
    "from sklearn.ensemble import RandomForestClassifier, AdaBoostClassifier, VotingClassifier, BaggingClassifier\n",
    "from xgboost import XGBClassifier\n",
    "from sklearn.metrics import accuracy_score"
   ]
  },
  {
   "cell_type": "code",
   "execution_count": null,
   "metadata": {},
   "outputs": [],
   "source": [
    "train = pd.read_csv('./Genre Classification Dataset/train_data.txt', sep=\":::\", names=[\"TITLE\", \"GENRE\", \"DESCRIPTION\"], engine=\"python\")\n",
    "test = pd.read_csv('./Genre Classification Dataset/test_data.txt', sep=\":::\", names=[\"TITLE\", \"GENRE\", \"DESCRIPTION\"], engine=\"python\")"
   ]
  },
  {
   "cell_type": "code",
   "execution_count": null,
   "metadata": {},
   "outputs": [],
   "source": [
    "print(train.shape)\n",
    "print(test.shape)"
   ]
  },
  {
   "cell_type": "code",
   "execution_count": null,
   "metadata": {},
   "outputs": [],
   "source": [
    "print(train.info())\n",
    "train.head"
   ]
  },
  {
   "cell_type": "code",
   "execution_count": null,
   "metadata": {},
   "outputs": [],
   "source": [
    "print(test.info())\n",
    "print(test.head)"
   ]
  },
  {
   "cell_type": "code",
   "execution_count": null,
   "metadata": {},
   "outputs": [],
   "source": [
    "train['GENRE'].value_counts() # Class imbalance is clearly visible"
   ]
  },
  {
   "cell_type": "code",
   "execution_count": null,
   "metadata": {},
   "outputs": [],
   "source": [
    "plt.figure(figsize=(10, 6))\n",
    "train['GENRE'].value_counts().plot(kind='bar')\n",
    "plt.title('Count of each Genre')\n",
    "plt.xlabel('Genre')\n",
    "plt.ylabel('Count')\n",
    "plt.show()"
   ]
  },
  {
   "cell_type": "code",
   "execution_count": null,
   "metadata": {},
   "outputs": [],
   "source": [
    "print(train.dtypes)\n",
    "print(test.dtypes)"
   ]
  },
  {
   "cell_type": "code",
   "execution_count": null,
   "metadata": {},
   "outputs": [],
   "source": [
    "def cleaning(text):\n",
    "    # Define stopwords set\n",
    "    stop_words = {\"i\", \"me\", \"my\", \"myself\", \"we\", \"our\", \"ours\", \"ourselves\", \"you\", \"your\", \"yours\", \"yourself\", \"yourselves\", \"he\", \"him\", \"his\", \"himself\", \"she\", \"her\", \"hers\", \"herself\", \"it\", \"its\", \"itself\", \"they\", \"them\", \"their\", \"theirs\", \"themselves\", \"what\", \"which\", \"who\", \"whom\", \"this\", \"that\", \"these\", \"those\", \"am\", \"is\", \"are\", \"was\", \"were\", \"be\", \"been\", \"being\", \"have\", \"has\", \"had\", \"having\", \"do\", \"does\", \"did\", \"doing\", \"a\", \"an\", \"the\", \"and\", \"but\", \"if\", \"or\", \"because\", \"as\", \"until\", \"while\", \"of\", \"at\", \"by\", \"for\", \"with\", \"about\", \"against\", \"between\", \"into\", \"through\", \"during\", \"before\", \"after\", \"above\", \"below\", \"to\", \"from\", \"up\", \"down\", \"in\", \"out\", \"on\", \"off\", \"over\", \"under\", \"again\", \"further\", \"then\", \"once\", \"here\", \"there\", \"when\", \"where\", \"why\", \"how\", \"all\", \"any\", \"both\", \"each\", \"few\", \"more\", \"most\", \"other\", \"some\", \"such\", \"no\", \"nor\", \"not\", \"only\", \"own\", \"same\", \"so\", \"than\", \"too\", \"very\", \"s\", \"t\", \"can\", \"will\", \"just\", \"don\", \"should\", \"now\"}\n",
    "    \n",
    "    # Convert text to lowercase\n",
    "    text = text.lower()\n",
    "    # Remove mentions\n",
    "    text = ' '.join(word for word in text.split() if not word.startswith('@'))\n",
    "    # Remove URLs\n",
    "    text = ' '.join(word for word in text.split() if not word.startswith('http'))\n",
    "    # Remove .pic occurrences\n",
    "    text = text.replace('.pic', '')\n",
    "    # Replace non-alphabetic characters with a space\n",
    "    text = ''.join(char if char.isalpha() else ' ' for char in text)\n",
    "    # Remove punctuation\n",
    "    text = ''.join(char for char in text if char not in '!\\\"#$%&\\'()*+,-./:;<=>?@[\\\\]^_`{|}~')\n",
    "    # Remove stop words and words with length <= 2\n",
    "    text = ' '.join(word for word in text.split() if word not in stop_words and len(word) > 2)\n",
    "    # Replace multiple spaces with a single space\n",
    "    text = ' '.join(text.split())\n",
    "    return text\n",
    "\n",
    "train[\"clean_text\"] = train[\"DESCRIPTION\"].apply(cleaning)\n",
    "test[\"clean_text\"] = test[\"DESCRIPTION\"].apply(cleaning)"
   ]
  },
  {
   "cell_type": "code",
   "execution_count": null,
   "metadata": {},
   "outputs": [],
   "source": [
    "train['GENRE'].value_counts()"
   ]
  },
  {
   "cell_type": "code",
   "execution_count": null,
   "metadata": {},
   "outputs": [],
   "source": [
    "train.head()"
   ]
  },
  {
   "cell_type": "code",
   "execution_count": null,
   "metadata": {},
   "outputs": [],
   "source": [
    "vectorizer = TfidfVectorizer()\n",
    "X_train = vectorizer.fit_transform(train[\"clean_text\"])\n",
    "X_test = vectorizer.transform(test[\"clean_text\"])"
   ]
  },
  {
   "cell_type": "code",
   "execution_count": null,
   "metadata": {},
   "outputs": [],
   "source": [
    "y_train = train[\"GENRE\"]\n",
    "X_train, X_val, y_train, y_val = train_test_split(X_train, y_train, test_size=0.2, random_state=42)"
   ]
  },
  {
   "cell_type": "code",
   "execution_count": null,
   "metadata": {},
   "outputs": [],
   "source": [
    "print(X_train)"
   ]
  },
  {
   "cell_type": "code",
   "execution_count": null,
   "metadata": {},
   "outputs": [],
   "source": [
    "lr = LogisticRegression()\n",
    "lr.fit(X_train, y_train)\n",
    "\n",
    "# Predict on validation set\n",
    "y_pred_val = lr.predict(X_val)\n",
    "val_acc = accuracy_score(y_pred_val, y_val)\n",
    "print(\"Validation Accuracy:\", val_acc)"
   ]
  },
  {
   "cell_type": "code",
   "execution_count": null,
   "metadata": {},
   "outputs": [],
   "source": [
    "# models = [\n",
    "#     {\n",
    "#         \"name\": \"SVM\",\n",
    "#         \"estimator\": SVC(),\n",
    "#         \"param_grid\": {'C': [0.1, 1, 10], 'gamma': [0.1, 1, 'auto'], 'kernel': ['linear', 'rbf']},\n",
    "#     },\n",
    "#     {\n",
    "#         \"name\": \"Naive Bayes\",\n",
    "#         \"estimator\": MultinomialNB(),\n",
    "#         \"param_grid\": {'alpha': [0.1, 1, 10]},\n",
    "#     },\n",
    "#     {\n",
    "#         \"name\": \"Decision Tree\",\n",
    "#         \"estimator\": DecisionTreeClassifier(),\n",
    "#         \"param_grid\": {'max_depth': [None, 10, 50], 'min_samples_split': [2, 5, 10]},\n",
    "#     },\n",
    "#     {\n",
    "#         \"name\": \"Random Forest\",\n",
    "#         \"estimator\": RandomForestClassifier(),\n",
    "#         \"param_grid\": {'n_estimators': [50, 100, 200], 'max_depth': [None, 10, 50], 'min_samples_split': [2, 5, 10]},\n",
    "#     },\n",
    "#     {\n",
    "#         \"name\": \"AdaBoost\",\n",
    "#         \"estimator\": AdaBoostClassifier(),\n",
    "#         \"param_grid\": {'n_estimators': [50, 100, 200], 'learning_rate': [0.01, 0.1, 1]},\n",
    "#     },\n",
    "#     {\n",
    "#         \"name\": \"Voting Classifier\",\n",
    "#         \"estimator\": VotingClassifier(estimators=[\n",
    "#             ('svm', SVC()), ('nb', MultinomialNB()), ('dt', DecisionTreeClassifier()), ('rf', RandomForestClassifier()), ('ada', AdaBoostClassifier())\n",
    "#         ]),\n",
    "#         \"param_grid\": {'voting': ['hard', 'soft']},\n",
    "#     },\n",
    "#     {\n",
    "#         \"name\": \"Bagging Classifier\",\n",
    "#         \"estimator\": BaggingClassifier(),\n",
    "#         \"param_grid\": {'n_estimators': [10, 50, 100]},\n",
    "#     },\n",
    "#     {\n",
    "#         \"name\": \"XGBoost\",\n",
    "#         \"estimator\": XGBClassifier(),\n",
    "#         \"param_grid\": {'n_estimators': [50, 100, 200], 'max_depth': [3, 5, 10], 'learning_rate': [0.01, 0.1, 1]},\n",
    "#     }\n",
    "# ]\n",
    "\n",
    "# # I tried Grid search for each model takes a lot of time becuz size of dataset is big so we just fit it instead\n",
    "# for model in models:\n",
    "#     print(\"Training\", model[\"name\"])\n",
    "#     grid_search = GridSearchCV(model[\"estimator\"], model[\"param_grid\"], cv=5, scoring='accuracy', n_jobs=-1)\n",
    "#     grid_search.fit(X_train, y_train)\n",
    "    \n",
    "#     print(\"Best Parameters:\", grid_search.best_params_)\n",
    "#     best_model = grid_search.best_estimator_\n",
    "#     y_pred = best_model.predict(X_val)\n",
    "#     acc = accuracy_score(y_pred, y_val)\n",
    "#     print(\"Validation Accuracy:\", acc)\n",
    "\n",
    "#     # Evaluate on test data\n",
    "#     test_acc = best_model.score(X_test, test[\"GENRE\"])\n",
    "#     print(\"Test Accuracy:\", test_acc)\n",
    "#     print(\"=\" * 50)"
   ]
  },
  {
   "cell_type": "code",
   "execution_count": null,
   "metadata": {},
   "outputs": [],
   "source": [
    "# SVM\n",
    "clf = SVC(kernel = 'rbf')\n",
    "clf.fit(X_train, y_train)\n",
    "\n",
    "# Predict on validation set\n",
    "y_pred_val = clf.predict(X_val)\n",
    "val_acc = accuracy_score(y_pred_val, y_val)\n",
    "print(\"Validation Accuracy:\", val_acc)"
   ]
  },
  {
   "cell_type": "code",
   "execution_count": null,
   "metadata": {},
   "outputs": [],
   "source": [
    "# Multinomial NB\n",
    "clf = SVC(kernel = 'rbf')\n",
    "clf.fit(X_train, y_train)\n",
    "\n",
    "# Predict on validation set\n",
    "y_pred_val = clf.predict(X_val)\n",
    "val_acc = accuracy_score(y_pred_val, y_val)\n",
    "print(\"Validation Accuracy:\", val_acc)"
   ]
  },
  {
   "cell_type": "code",
   "execution_count": null,
   "metadata": {},
   "outputs": [],
   "source": []
  }
 ],
 "metadata": {
  "kernelspec": {
   "display_name": "Python 3",
   "language": "python",
   "name": "python3"
  },
  "language_info": {
   "codemirror_mode": {
    "name": "ipython",
    "version": 3
   },
   "file_extension": ".py",
   "mimetype": "text/x-python",
   "name": "python",
   "nbconvert_exporter": "python",
   "pygments_lexer": "ipython3",
   "version": "3.11.7"
  }
 },
 "nbformat": 4,
 "nbformat_minor": 2
}
